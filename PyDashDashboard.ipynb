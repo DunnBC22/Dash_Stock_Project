{
 "cells": [
  {
   "cell_type": "code",
   "execution_count": 1,
   "id": "biological-plumbing",
   "metadata": {},
   "outputs": [
    {
     "name": "stdout",
     "output_type": "stream",
     "text": [
      "             date       close\n",
      "0      2021-03-19  119.989998\n",
      "1      2021-03-18  120.529999\n",
      "2      2021-03-17  124.760002\n",
      "3      2021-03-16  125.570000\n",
      "4      2021-03-15  123.989998\n",
      "...           ...         ...\n",
      "10147  1980-12-18    0.118862\n",
      "10148  1980-12-17    0.115513\n",
      "10149  1980-12-16    0.112723\n",
      "10150  1980-12-15    0.121652\n",
      "10151  1980-12-12    0.128348\n",
      "\n",
      "[10152 rows x 2 columns]\n"
     ]
    },
    {
     "data": {
      "text/plain": [
       "\"if __name__ == '__main__':\\n    app.run_server(debug=True) #, use_reloader=False\\n    #quit()\\n    #sys.exit()\""
      ]
     },
     "execution_count": 1,
     "metadata": {},
     "output_type": "execute_result"
    }
   ],
   "source": [
    "import dash\n",
    "import dash_core_components as dcc\n",
    "import dash_html_components as dhc\n",
    "import plotly.express as px\n",
    "import pandas as pd\n",
    "import json\n",
    "import numpy as np\n",
    "import plotly.graph_objs as go\n",
    "from jupyterlab_dash import AppViewer\n",
    "\n",
    "viewer = AppViewer()\n",
    "\n",
    "external_stylesheet = ['PyDashStylesheet.txt']\n",
    "\n",
    "app = dash.Dash(__name__) #, external_stylesheets=external_stylesheet\n",
    "\n",
    "path='https://financialmodelingprep.com/api/v3/historical-price-full/AAPL?serietype=line&apikey=demo'\n",
    "df = pd.read_json(path, orient='records')\n",
    "df['C'] = np.arange(len(df))\n",
    "df = df[['C', 'historical']]\n",
    "\n",
    "df = pd.json_normalize(df['historical'])\n",
    "print(df)\n",
    "\n",
    "fig = px.line(df, x='date', y='close')\n",
    "\n",
    "#rename the axes\n",
    "###\n",
    "\n",
    "app.layout = dhc.Div(children=[\n",
    "    dhc.H1(children='Stock Chart'),\n",
    "    \n",
    "    dhc.Div(children='''For Apple'''),\n",
    "    \n",
    "    dcc.Graph(\n",
    "        id='example-time-series',\n",
    "        figure=fig\n",
    "    )\n",
    "])\n",
    "\n",
    "viewer.show(app)\n",
    "\n",
    "'''if __name__ == '__main__':\n",
    "    app.run_server(debug=True) #, use_reloader=False\n",
    "    #quit()\n",
    "    #sys.exit()'''"
   ]
  },
  {
   "cell_type": "code",
   "execution_count": null,
   "id": "heavy-machine",
   "metadata": {},
   "outputs": [],
   "source": []
  }
 ],
 "metadata": {
  "kernelspec": {
   "display_name": "Python 3",
   "language": "python",
   "name": "python3"
  },
  "language_info": {
   "codemirror_mode": {
    "name": "ipython",
    "version": 3
   },
   "file_extension": ".py",
   "mimetype": "text/x-python",
   "name": "python",
   "nbconvert_exporter": "python",
   "pygments_lexer": "ipython3",
   "version": "3.8.5"
  }
 },
 "nbformat": 4,
 "nbformat_minor": 5
}
